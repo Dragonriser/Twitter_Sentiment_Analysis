{
  "nbformat": 4,
  "nbformat_minor": 0,
  "metadata": {
    "colab": {
      "name": "Twitter_Sentiment_Analysis.ipynb",
      "provenance": [],
      "collapsed_sections": [],
      "machine_shape": "hm"
    },
    "kernelspec": {
      "name": "python3",
      "display_name": "Python 3"
    },
    "accelerator": "TPU"
  },
  "cells": [
    {
      "cell_type": "code",
      "metadata": {
        "id": "DCwfeNVd-Hdc",
        "colab_type": "code",
        "colab": {}
      },
      "source": [
        "# Import required packages\n",
        "\n",
        "import pandas as pd\n",
        "import numpy as np\n",
        "import matplotlib.pyplot as plt\n",
        "import nltk\n",
        "import keras\n",
        "from keras.preprocessing.text import Tokenizer\n",
        "from keras.layers import Dense, Dropout, Embedding, LSTM, Bidirectional,InputLayer\n",
        "from sklearn.model_selection import train_test_split"
      ],
      "execution_count": 0,
      "outputs": []
    },
    {
      "cell_type": "code",
      "metadata": {
        "id": "fAG7sdb3P1Cy",
        "colab_type": "code",
        "colab": {}
      },
      "source": [
        "# Download all ntlk resources\n",
        "\n",
        "nltk.download('all')"
      ],
      "execution_count": 0,
      "outputs": []
    },
    {
      "cell_type": "code",
      "metadata": {
        "id": "mmgDSHjo-Zud",
        "colab_type": "code",
        "colab": {}
      },
      "source": [
        "# Import Sentiment140 dataset\n",
        "# Update file location of Sentiment140.csv according to your working environment\n",
        "\n",
        "data_path  = \"Sentiment140.csv\"\n",
        "\n",
        "twitter_data = pd.read_csv(data_path,names=['target','id','date','flag','user','text'],\n",
        "                           encoding = \"ISO-8859-1\")"
      ],
      "execution_count": 0,
      "outputs": []
    },
    {
      "cell_type": "code",
      "metadata": {
        "id": "4clzU4R-_IqE",
        "colab_type": "code",
        "colab": {}
      },
      "source": [
        "# Create NumPy array of unprocessed input text and target \n",
        "\n",
        "X=np.array(twitter_data['text'])\n",
        "Y=np.array(twitter_data['target'])\n",
        "\n",
        "# Set Y=1 for Positive Tweets\n",
        "Y[Y==4]=1"
      ],
      "execution_count": 0,
      "outputs": []
    },
    {
      "cell_type": "code",
      "metadata": {
        "id": "0aHJnLhyFK80",
        "colab_type": "code",
        "outputId": "fe50abb7-0800-49fc-b7fa-bdc1599be315",
        "colab": {
          "base_uri": "https://localhost:8080/",
          "height": 34
        }
      },
      "source": [
        "# Visualize Dataset\n",
        "\n",
        "index = 123  # index in range [0,1599999]\n",
        "\n",
        "print(X[index])"
      ],
      "execution_count": 0,
      "outputs": [
        {
          "output_type": "stream",
          "text": [
            "I am in pain. My back and sides hurt. Not to mention crying is made of fail. \n"
          ],
          "name": "stdout"
        }
      ]
    },
    {
      "cell_type": "code",
      "metadata": {
        "id": "YYbJKYT-Ggis",
        "colab_type": "code",
        "colab": {}
      },
      "source": [
        "# Define Preprocessing functions\n",
        "\n",
        "def tokenize(X):\n",
        "  \"\"\"\n",
        "  Tokenize the data using nltk\n",
        "  \"\"\"\n",
        "\n",
        "  treebank = nltk.tokenize.TreebankWordTokenizer()\n",
        "  X_tokenized=[treebank.tokenize(sentence) for sentence in X]  \n",
        "  return X_tokenized\n",
        "\n",
        "\n",
        "def remove_stopwords(X):\n",
        "  \"\"\"\n",
        "  Remove Stopwords using nltk\n",
        "  \"\"\"\n",
        "\n",
        "  stopwords=nltk.corpus.stopwords.words('english') + ['@']\n",
        "  X_without_stopwords = []\n",
        "\n",
        "  for sentence in X:\n",
        "\n",
        "    temp = [word for word in sentence if not word in stopwords]\n",
        "    X_without_stopwords.append(temp) \n",
        "\n",
        "  return X_without_stopwords\n",
        "\n",
        "\n",
        "def stem(X,type='porter'):\n",
        "  \"\"\"\n",
        "  Perform Stemming using nltk\n",
        "  type = 'Porter','Snowball','Lancaster'\n",
        "  \"\"\"\n",
        "  \n",
        "  if type == 'porter':\n",
        "    stemmer= nltk.stem.PorterStemmer()\n",
        "  elif type == 'snowball':\n",
        "    stemmer = nltk.stem.SnowballStemmer()\n",
        "  elif type == 'lancaster':\n",
        "    stemmer = nltk.stem.LancasterStemmer()    \n",
        "\n",
        "  \n",
        "  X_stemmed = []\n",
        "\n",
        "  for sentence in X:\n",
        "\n",
        "    temp = [stemmer.stem(word) for word in sentence]\n",
        "    X_stemmed.append(temp)\n",
        "\n",
        "  return X_stemmed \n",
        "\n",
        "\n",
        "\n",
        "def get_wordnet_pos(treebank_tag):\n",
        "        \"\"\"\n",
        "        return WORDNET POS compliance to WORDENT lemmatization (a,n,r,v) \n",
        "        \"\"\"\n",
        "        if treebank_tag.startswith('J'):\n",
        "            return 'a'\n",
        "        elif treebank_tag.startswith('V'):\n",
        "            return 'v'\n",
        "        elif treebank_tag.startswith('N'):\n",
        "            return 'n'\n",
        "        elif treebank_tag.startswith('R'):\n",
        "            return 'r'\n",
        "        else:\n",
        "            return 'n'\n",
        "\n",
        "\n",
        "def lemmatize(X):\n",
        "  \"\"\"\n",
        "  Lemmatize words using corresponding POS tag\n",
        "  \"\"\"\n",
        "\n",
        "  lemmatizer = nltk.stem.WordNetLemmatizer()\n",
        "  \n",
        "  X_pos = []\n",
        "  X_lemmatized = []\n",
        "\n",
        "  for sentence in X :\n",
        "\n",
        "    temp = nltk.pos_tag(sentence)\n",
        "    X_pos.append(temp)  \n",
        "\n",
        "  for sentence in X_pos :\n",
        "\n",
        "    temp = [ lemmatizer.lemmatize(word[0],pos=get_wordnet_pos(word[1])) for word in sentence]\n",
        "    X_lemmatized.append(temp)  \n",
        "\n",
        "  return X_lemmatized    "
      ],
      "execution_count": 0,
      "outputs": []
    },
    {
      "cell_type": "markdown",
      "metadata": {
        "id": "DV2WW5_7jpyA",
        "colab_type": "text"
      },
      "source": [
        "# **Training on Unprocessed data**\n"
      ]
    },
    {
      "cell_type": "code",
      "metadata": {
        "id": "MBf7oD0OGwuz",
        "colab_type": "code",
        "outputId": "375c9382-8704-4d84-8940-2cb213de5304",
        "colab": {
          "base_uri": "https://localhost:8080/",
          "height": 34
        }
      },
      "source": [
        "# Count total no. of distinct tokens\n",
        "\n",
        "tokenizer = Tokenizer(filters='@')\n",
        "tokenizer.fit_on_texts(X)\n",
        "\n",
        "print('No. of distinct tokens = '+str(len(tokenizer.word_index)))"
      ],
      "execution_count": 0,
      "outputs": [
        {
          "output_type": "stream",
          "text": [
            "No. of distinct tokens = 1185412\n"
          ],
          "name": "stdout"
        }
      ]
    },
    {
      "cell_type": "code",
      "metadata": {
        "id": "V2RfCghxle_N",
        "colab_type": "code",
        "colab": {}
      },
      "source": [
        "# Define Vocabulary size (no. of most frequent tokens) to consider\n",
        "\n",
        "max_vocab=50000"
      ],
      "execution_count": 0,
      "outputs": []
    },
    {
      "cell_type": "code",
      "metadata": {
        "id": "iLo3758utaet",
        "colab_type": "code",
        "colab": {}
      },
      "source": [
        "# Reload Twitter dataset with new Vocabulary\n",
        "\n",
        "tokenizer = Tokenizer(num_words=max_vocab,filters='@')\n",
        "tokenizer.fit_on_texts(X)"
      ],
      "execution_count": 0,
      "outputs": []
    },
    {
      "cell_type": "code",
      "metadata": {
        "id": "MVgKXJcElHnk",
        "colab_type": "code",
        "colab": {}
      },
      "source": [
        "# Vectorize input text using Vocabulary\n",
        "\n",
        "X_vectorized=tokenizer.texts_to_sequences(X)"
      ],
      "execution_count": 0,
      "outputs": []
    },
    {
      "cell_type": "code",
      "metadata": {
        "id": "UHKX4sW1cYLD",
        "colab_type": "code",
        "outputId": "5a0fe9ac-6c13-4c35-f9c7-12e3e3637da8",
        "colab": {
          "base_uri": "https://localhost:8080/",
          "height": 34
        }
      },
      "source": [
        "# Count average length of tweets\n",
        "\n",
        "sum=0\n",
        "for sentence in X_vectorized:\n",
        "  sum+=len(sentence)\n",
        "\n",
        "print('Average length of tweets = '+str(sum/len(X_vectorized)))"
      ],
      "execution_count": 0,
      "outputs": [
        {
          "output_type": "stream",
          "text": [
            "Average length of tweets = 11.967963125\n"
          ],
          "name": "stdout"
        }
      ]
    },
    {
      "cell_type": "code",
      "metadata": {
        "id": "UZoxbQz2cK1D",
        "colab_type": "code",
        "colab": {}
      },
      "source": [
        "# Define Maximum input length of the Model\n",
        "\n",
        "max_length=20"
      ],
      "execution_count": 0,
      "outputs": []
    },
    {
      "cell_type": "code",
      "metadata": {
        "id": "HMsTQLgbzE2n",
        "colab_type": "code",
        "outputId": "e645d5cc-2593-410c-fb80-4a939113b1af",
        "colab": {
          "base_uri": "https://localhost:8080/",
          "height": 34
        }
      },
      "source": [
        "# Pad or Trim data to defined input length\n",
        "\n",
        "X_pad = keras.preprocessing.sequence.pad_sequences(X_vectorized,max_length,padding='post',\n",
        "                                                   truncating='post')\n",
        "\n",
        "print(X_pad.shape)"
      ],
      "execution_count": 0,
      "outputs": [
        {
          "output_type": "stream",
          "text": [
            "(1600000, 20)\n"
          ],
          "name": "stdout"
        }
      ]
    },
    {
      "cell_type": "code",
      "metadata": {
        "id": "DTpW_v2Ivks1",
        "colab_type": "code",
        "outputId": "c2813e77-452d-4aa4-b123-1af2a3305421",
        "colab": {
          "base_uri": "https://localhost:8080/",
          "height": 235
        }
      },
      "source": [
        "# Visualize unprocessed data\n",
        "\n",
        "index  = 123  # index in range [0,1599999]\n",
        "\n",
        "print('\\nOriginal :')\n",
        "print(X[index])\n",
        "print('\\nTokenized :')\n",
        "print(X_tokenized[index])\n",
        "print('\\nVectorized :')\n",
        "print(X_vectorized[index])\n",
        "print('\\nPadded :')\n",
        "print(X_pad[index])"
      ],
      "execution_count": 0,
      "outputs": [
        {
          "output_type": "stream",
          "text": [
            "\n",
            "Original :\n",
            "I am in pain. My back and sides hurt. Not to mention crying is made of fail. \n",
            "\n",
            "Tokenized :\n",
            "['I', 'am', 'in', 'pain.', 'My', 'back', 'and', 'sides', 'hurt.', 'Not', 'to', 'mention', 'crying', 'is', 'made', 'of', 'fail', '.']\n",
            "\n",
            "Vectorized :\n",
            "[1, 57, 10, 2588, 5, 48, 6, 8826, 2898, 25, 2, 1418, 1086, 8, 187, 12, 2288]\n",
            "\n",
            "Padded :\n",
            "[   1   57   10 2588    5   48    6 8826 2898   25    2 1418 1086    8\n",
            "  187   12 2288    0    0    0]\n"
          ],
          "name": "stdout"
        }
      ]
    },
    {
      "cell_type": "code",
      "metadata": {
        "id": "WpXc12zlzlVM",
        "colab_type": "code",
        "colab": {}
      },
      "source": [
        "# Define Classification model\n",
        "\n",
        "np.random.seed(123)\n",
        "\n",
        "model_1 = keras.models.Sequential(name='Model_1(Sentiment140_Unprocessed)')\n",
        "\n",
        "model_1.add(InputLayer(input_shape=(20,),name = 'Integer_Encoding'))\n",
        "model_1.add(Embedding(max_vocab, 100,input_length=max_length,mask_zero=True,\n",
        "                      name='100D_Encoding',trainable=False))\n",
        "model_1.add(Bidirectional(LSTM(64,name='LSTM'),name='Bidirectional_RNN'))\n",
        "model_1.add(Dropout(0.5,name='Regularizer'))\n",
        "model_1.add(Dense(1, activation='sigmoid',name='Sigmoid_Classifier'))"
      ],
      "execution_count": 0,
      "outputs": []
    },
    {
      "cell_type": "code",
      "metadata": {
        "id": "ZHImg19AzVPL",
        "colab_type": "code",
        "colab": {}
      },
      "source": [
        "# Compile the Model\n",
        "\n",
        "model_1.compile(optimizer=keras.optimizers.adam(lr=0.001),loss='binary_crossentropy',\n",
        "                metrics=['accuracy'])"
      ],
      "execution_count": 0,
      "outputs": []
    },
    {
      "cell_type": "code",
      "metadata": {
        "id": "IOxR44e00Q-o",
        "colab_type": "code",
        "outputId": "448ad352-2d85-49d0-f1df-e6705b3c5dad",
        "colab": {
          "base_uri": "https://localhost:8080/",
          "height": 735
        }
      },
      "source": [
        "# Model details\n",
        "\n",
        "model_1.summary()\n",
        "keras.utils.plot_model(model_1,to_file='model_1.png')"
      ],
      "execution_count": 0,
      "outputs": [
        {
          "output_type": "stream",
          "text": [
            "Model: \"Model_1(Sentiment140_Unprocessed)\"\n",
            "_________________________________________________________________\n",
            "Layer (type)                 Output Shape              Param #   \n",
            "=================================================================\n",
            "100D_Encoding (Embedding)    (None, 20, 100)           5000000   \n",
            "_________________________________________________________________\n",
            "Bidirectional_RNN (Bidirecti (None, 128)               84480     \n",
            "_________________________________________________________________\n",
            "Regularizer (Dropout)        (None, 128)               0         \n",
            "_________________________________________________________________\n",
            "Sigmoid_Classifier (Dense)   (None, 1)                 129       \n",
            "=================================================================\n",
            "Total params: 5,084,609\n",
            "Trainable params: 84,609\n",
            "Non-trainable params: 5,000,000\n",
            "_________________________________________________________________\n"
          ],
          "name": "stdout"
        },
        {
          "output_type": "execute_result",
          "data": {
            "image/png": "[encoded data removed]",
            "text/plain": [
              "<IPython.core.display.Image object>"
            ]
          },
          "metadata": {
            "tags": []
          },
          "execution_count": 97
        }
      ]
    },
    {
      "cell_type": "code",
      "metadata": {
        "id": "fsqIvVpp0tOf",
        "colab_type": "code",
        "outputId": "e9d462b8-ea51-4c4d-8135-c10bc54ae0bc",
        "colab": {
          "base_uri": "https://localhost:8080/",
          "height": 84
        }
      },
      "source": [
        "# Perform train-test split\n",
        "\n",
        "np.random.seed(123)\n",
        "\n",
        "X_train, X_test, Y_train, Y_test = train_test_split (X_pad,Y.reshape(Y.shape[0],1),test_size=0.05)\n",
        "\n",
        "print(X_train.shape)\n",
        "print(X_test.shape)\n",
        "print(Y_train.shape)\n",
        "print(Y_test.shape)"
      ],
      "execution_count": 0,
      "outputs": [
        {
          "output_type": "stream",
          "text": [
            "(1520000, 20)\n",
            "(80000, 20)\n",
            "(1520000, 1)\n",
            "(80000, 1)\n"
          ],
          "name": "stdout"
        }
      ]
    },
    {
      "cell_type": "code",
      "metadata": {
        "id": "2yOmrwum0GPs",
        "colab_type": "code",
        "outputId": "0e67cabc-a40d-4601-9e4d-95a7f73a9343",
        "colab": {
          "base_uri": "https://localhost:8080/",
          "height": 538
        }
      },
      "source": [
        "# Train the model\n",
        "\n",
        "history_model_1 = model_1.fit(X_train,Y_train,batch_size=1024,epochs=15,validation_split=0.05)"
      ],
      "execution_count": 0,
      "outputs": [
        {
          "output_type": "stream",
          "text": [
            "Train on 1444000 samples, validate on 76000 samples\n",
            "Epoch 1/15\n",
            "1444000/1444000 [==============================] - 220s 153us/step - loss: 0.6372 - acc: 0.6355 - val_loss: 0.6100 - val_acc: 0.6638\n",
            "Epoch 2/15\n",
            "1444000/1444000 [==============================] - 218s 151us/step - loss: 0.5891 - acc: 0.6826 - val_loss: 0.5656 - val_acc: 0.7042\n",
            "Epoch 3/15\n",
            "1444000/1444000 [==============================] - 219s 152us/step - loss: 0.5555 - acc: 0.7109 - val_loss: 0.5406 - val_acc: 0.7218\n",
            "Epoch 4/15\n",
            "1444000/1444000 [==============================] - 219s 152us/step - loss: 0.5367 - acc: 0.7261 - val_loss: 0.5255 - val_acc: 0.7338\n",
            "Epoch 5/15\n",
            "1444000/1444000 [==============================] - 218s 151us/step - loss: 0.5239 - acc: 0.7363 - val_loss: 0.5134 - val_acc: 0.7428\n",
            "Epoch 6/15\n",
            "1444000/1444000 [==============================] - 218s 151us/step - loss: 0.5152 - acc: 0.7425 - val_loss: 0.5200 - val_acc: 0.7383\n",
            "Epoch 7/15\n",
            "1444000/1444000 [==============================] - 220s 153us/step - loss: 0.5079 - acc: 0.7479 - val_loss: 0.5012 - val_acc: 0.7519\n",
            "Epoch 8/15\n",
            "1444000/1444000 [==============================] - 218s 151us/step - loss: 0.5022 - acc: 0.7519 - val_loss: 0.4949 - val_acc: 0.7575\n",
            "Epoch 9/15\n",
            "1444000/1444000 [==============================] - 219s 152us/step - loss: 0.4973 - acc: 0.7556 - val_loss: 0.4932 - val_acc: 0.7586\n",
            "Epoch 10/15\n",
            "1444000/1444000 [==============================] - 220s 152us/step - loss: 0.4924 - acc: 0.7591 - val_loss: 0.4897 - val_acc: 0.7609\n",
            "Epoch 11/15\n",
            "1444000/1444000 [==============================] - 218s 151us/step - loss: 0.4886 - acc: 0.7616 - val_loss: 0.4832 - val_acc: 0.7643\n",
            "Epoch 12/15\n",
            "1444000/1444000 [==============================] - 219s 152us/step - loss: 0.4852 - acc: 0.7641 - val_loss: 0.4818 - val_acc: 0.7674\n",
            "Epoch 13/15\n",
            "1444000/1444000 [==============================] - 219s 152us/step - loss: 0.4824 - acc: 0.7657 - val_loss: 0.4798 - val_acc: 0.7666\n",
            "Epoch 14/15\n",
            "1444000/1444000 [==============================] - 220s 152us/step - loss: 0.4799 - acc: 0.7677 - val_loss: 0.4844 - val_acc: 0.7649\n",
            "Epoch 15/15\n",
            "1444000/1444000 [==============================] - 219s 152us/step - loss: 0.4770 - acc: 0.7694 - val_loss: 0.4739 - val_acc: 0.7714\n"
          ],
          "name": "stdout"
        }
      ]
    },
    {
      "cell_type": "code",
      "metadata": {
        "id": "OQLFiT2hQv0R",
        "colab_type": "code",
        "outputId": "27ac7a11-20a2-4e23-c30b-63202ba68b2a",
        "colab": {
          "base_uri": "https://localhost:8080/",
          "height": 50
        }
      },
      "source": [
        "# Evaluate model on Test data\n",
        "\n",
        "model_1.evaluate(X_test,Y_test)"
      ],
      "execution_count": 0,
      "outputs": [
        {
          "output_type": "stream",
          "text": [
            "80000/80000 [==============================] - 13s 167us/step\n"
          ],
          "name": "stdout"
        },
        {
          "output_type": "execute_result",
          "data": {
            "text/plain": [
              "[0.47721565170884134, 0.7687125]"
            ]
          },
          "metadata": {
            "tags": []
          },
          "execution_count": 80
        }
      ]
    },
    {
      "cell_type": "markdown",
      "metadata": {
        "id": "hgesb5eM9dz7",
        "colab_type": "text"
      },
      "source": [
        "# **Training on Pre-Processed data with GloVe Word Embeddings**\n",
        "\n"
      ]
    },
    {
      "cell_type": "code",
      "metadata": {
        "id": "vGnvHQFI9jYR",
        "colab_type": "code",
        "colab": {}
      },
      "source": [
        "# Preprocess the data\n",
        "\n",
        "X_tokenized = tokenize (X)\n",
        "\n",
        "X_without_stopwords = remove_stopwords ( X_tokenized )\n",
        "\n",
        "X_lemmatized = lemmatize ( X_without_stopwords )\n",
        "\n",
        "X_clean = []\n",
        "\n",
        "for sentence in X_lemmatized:\n",
        "\n",
        "  temp = \" \".join(sentence)\n",
        "  X_clean.append(temp)"
      ],
      "execution_count": 0,
      "outputs": []
    },
    {
      "cell_type": "code",
      "metadata": {
        "colab_type": "code",
        "outputId": "f41677a6-ff10-4b6f-cde7-fef004193127",
        "id": "099aSlCgdSuH",
        "colab": {
          "base_uri": "https://localhost:8080/",
          "height": 34
        }
      },
      "source": [
        "# Count total no. of distinct tokens\n",
        "\n",
        "tokenizer = Tokenizer(filters='@')\n",
        "tokenizer.fit_on_texts(X_clean)\n",
        "\n",
        "print('No. of distinct tokens = '+str(len(tokenizer.word_index)))"
      ],
      "execution_count": 0,
      "outputs": [
        {
          "output_type": "stream",
          "text": [
            "No. of distinct tokens = 837032\n"
          ],
          "name": "stdout"
        }
      ]
    },
    {
      "cell_type": "code",
      "metadata": {
        "colab_type": "code",
        "id": "KGZbksYQdSuN",
        "colab": {}
      },
      "source": [
        "# Define Vocabulary size (no. of most frequent tokens) to consider\n",
        "\n",
        "max_vocab=50000"
      ],
      "execution_count": 0,
      "outputs": []
    },
    {
      "cell_type": "code",
      "metadata": {
        "colab_type": "code",
        "id": "eUZATHUKdSuQ",
        "colab": {}
      },
      "source": [
        "# Reload Twitter dataset with new Vocabulary\n",
        "\n",
        "tokenizer = Tokenizer(num_words=max_vocab,filters='@')\n",
        "tokenizer.fit_on_texts(X_clean)"
      ],
      "execution_count": 0,
      "outputs": []
    },
    {
      "cell_type": "code",
      "metadata": {
        "colab_type": "code",
        "id": "vRu7fr1T_b3Y",
        "colab": {}
      },
      "source": [
        "# Vectorize input text using Vocabulary\n",
        "\n",
        "X_clean_vectorized=tokenizer.texts_to_sequences(X_clean)"
      ],
      "execution_count": 0,
      "outputs": []
    },
    {
      "cell_type": "code",
      "metadata": {
        "colab_type": "code",
        "id": "u7XIoIzPdSuU",
        "outputId": "08402107-f293-4e39-83fa-c68d38edf0cb",
        "colab": {
          "base_uri": "https://localhost:8080/",
          "height": 34
        }
      },
      "source": [
        "# Count average length of tweets\n",
        "\n",
        "length=[]\n",
        "for sentence in X_clean_vectorized:\n",
        "  length.append(len(sentence))\n",
        "  \n",
        "print('Average length of tweets = '+str(np.mean(length)))"
      ],
      "execution_count": 0,
      "outputs": [
        {
          "output_type": "stream",
          "text": [
            "Average length of tweets = 10.064181875\n"
          ],
          "name": "stdout"
        }
      ]
    },
    {
      "cell_type": "code",
      "metadata": {
        "colab_type": "code",
        "id": "pDhzyLd5dSuX",
        "colab": {}
      },
      "source": [
        "# Define Maximum input length of the Model\n",
        "\n",
        "max_length=20"
      ],
      "execution_count": 0,
      "outputs": []
    },
    {
      "cell_type": "code",
      "metadata": {
        "colab_type": "code",
        "outputId": "47e59f0b-de0a-46ef-8dd4-8f77d32493dc",
        "id": "xGFaD8wW_b3b",
        "colab": {
          "base_uri": "https://localhost:8080/",
          "height": 34
        }
      },
      "source": [
        "# Pad or Trim data to defined input length\n",
        "\n",
        "X_clean_pad = keras.preprocessing.sequence.pad_sequences(X_clean_vectorized,max_length,padding='post',\n",
        "                                                         truncating='post')\n",
        "\n",
        "print(X_clean_pad.shape)"
      ],
      "execution_count": 0,
      "outputs": [
        {
          "output_type": "stream",
          "text": [
            "(1600000, 20)\n"
          ],
          "name": "stdout"
        }
      ]
    },
    {
      "cell_type": "code",
      "metadata": {
        "id": "h7oQjX--G3IY",
        "colab_type": "code",
        "outputId": "fe6979ae-a6c9-4335-f827-b5c027b4006f",
        "colab": {
          "base_uri": "https://localhost:8080/",
          "height": 457
        }
      },
      "source": [
        "# Visualize pre-processed data\n",
        "\n",
        "index  = 123  # index in range [0,1599999]\n",
        "\n",
        "print('\\nOriginal :')\n",
        "print(X[index])\n",
        "print('\\nTokenized :')\n",
        "print(X_tokenized[index])\n",
        "print('\\nStopwords removed :')\n",
        "print(X_without_stopwords[index])\n",
        "print('\\nPOS tagged :')\n",
        "print(nltk.pos_tag(X_without_stopwords[index]))\n",
        "print('\\nLemmatized :')\n",
        "print(X_lemmatized[index])\n",
        "print('\\nClean :')\n",
        "print(X_clean[index])\n",
        "print('\\nVectorized :')\n",
        "print(X_clean_vectorized[index])\n",
        "print('\\nPadded :')\n",
        "print(X_clean_pad[index])"
      ],
      "execution_count": 0,
      "outputs": [
        {
          "output_type": "stream",
          "text": [
            "\n",
            "Original :\n",
            "I am in pain. My back and sides hurt. Not to mention crying is made of fail. \n",
            "\n",
            "Tokenized :\n",
            "['I', 'am', 'in', 'pain.', 'My', 'back', 'and', 'sides', 'hurt.', 'Not', 'to', 'mention', 'crying', 'is', 'made', 'of', 'fail', '.']\n",
            "\n",
            "Stopwords removed :\n",
            "['I', 'pain.', 'My', 'back', 'sides', 'hurt.', 'Not', 'mention', 'crying', 'made', 'fail', '.']\n",
            "\n",
            "POS tagged :\n",
            "[('I', 'PRP'), ('pain.', 'VBP'), ('My', 'PRP$'), ('back', 'NN'), ('sides', 'NNS'), ('hurt.', 'VBP'), ('Not', 'RB'), ('mention', 'NN'), ('crying', 'VBG'), ('made', 'VBN'), ('fail', 'NN'), ('.', '.')]\n",
            "\n",
            "Lemmatized :\n",
            "['I', 'pain.', 'My', 'back', 'side', 'hurt.', 'Not', 'mention', 'cry', 'make', 'fail', '.']\n",
            "\n",
            "Clean :\n",
            "I pain. My back side hurt. Not mention cry make fail .\n",
            "\n",
            "Vectorized :\n",
            "[2, 3430, 62, 30, 591, 4231, 146, 831, 308, 33, 426, 4]\n",
            "\n",
            "Padded :\n",
            "[   2 3430   62   30  591 4231  146  831  308   33  426    4    0    0\n",
            "    0    0    0    0    0    0]\n"
          ],
          "name": "stdout"
        }
      ]
    },
    {
      "cell_type": "code",
      "metadata": {
        "id": "dDYeN-AMz21Y",
        "colab_type": "code",
        "colab": {}
      },
      "source": [
        "# Load Pre-trained Word embeddings\n",
        "# Update file location of glove.6B.100d.txt according to your working environment\n",
        "\n",
        "embedding_path = 'glove.6B.100d.txt'\n",
        "\n",
        "embeddings_index = dict()\n",
        "f = open(embedding_path)\n",
        "for line in f:\n",
        "\tvalues = line.split()\n",
        "\tword = values[0]\n",
        "\tcoefs = np.asarray(values[1:], dtype='float32')\n",
        "\tembeddings_index[word] = coefs\n",
        "f.close()"
      ],
      "execution_count": 0,
      "outputs": []
    },
    {
      "cell_type": "code",
      "metadata": {
        "id": "ik4DKokz0MSa",
        "colab_type": "code",
        "colab": {}
      },
      "source": [
        "# Create Word Embedding Matrix\n",
        "\n",
        "embedding_matrix = np.zeros((max_vocab, 100))\n",
        "for i in range(1,max_vocab):\n",
        "\tembedding_vector = embeddings_index.get(tokenizer.index_word[i])\n",
        "\tif embedding_vector is not None:\n",
        "\t\tembedding_matrix[i] = embedding_vector"
      ],
      "execution_count": 0,
      "outputs": []
    },
    {
      "cell_type": "code",
      "metadata": {
        "colab_type": "code",
        "id": "nKazaYlB_b3g",
        "colab": {}
      },
      "source": [
        "# Define Classification model\n",
        "\n",
        "np.random.seed(123)\n",
        "\n",
        "model_2 = keras.models.Sequential(name='Model_2(Sentiment140_Preprocessed + GloVe 100D)')\n",
        "\n",
        "model_2.add(InputLayer(input_shape=(20,),name='Integer_Encoding_after_Preprocessing'))\n",
        "model_2.add(Embedding(max_vocab, 100, weights=[embedding_matrix], input_length=max_length,mask_zero=True,\n",
        "                      name='Pretrained_GloVe_100D', trainable=False))\n",
        "model_2.add(Bidirectional(LSTM(64,name='LSTM'),name='Bidirectional_RNN'))\n",
        "model_2.add(Dropout(0.5,name='Regularizer'))\n",
        "model_2.add(Dense(1, activation='sigmoid',name='Sigmoid_Classifier'))"
      ],
      "execution_count": 0,
      "outputs": []
    },
    {
      "cell_type": "code",
      "metadata": {
        "colab_type": "code",
        "id": "KQRQ5vbs_b3i",
        "colab": {}
      },
      "source": [
        "# Compile the Model\n",
        "\n",
        "model_2.compile(optimizer=keras.optimizers.adam(lr=0.001),loss='binary_crossentropy',\n",
        "                metrics=['accuracy'])"
      ],
      "execution_count": 0,
      "outputs": []
    },
    {
      "cell_type": "code",
      "metadata": {
        "colab_type": "code",
        "id": "lE1ht4sI_b3l",
        "outputId": "0e3ec701-7602-4ed9-a782-9277cc73264f",
        "colab": {
          "base_uri": "https://localhost:8080/",
          "height": 735
        }
      },
      "source": [
        "# Model details\n",
        "\n",
        "model_2.summary()\n",
        "keras.utils.plot_model(model_2,to_file='model_2.png')"
      ],
      "execution_count": 0,
      "outputs": [
        {
          "output_type": "stream",
          "text": [
            "Model: \"Model_2(Sentiment140_Preprocessed + GloVe 100D)\"\n",
            "_________________________________________________________________\n",
            "Layer (type)                 Output Shape              Param #   \n",
            "=================================================================\n",
            "Pretrained_GloVe_100D (Embed (None, 20, 100)           5000000   \n",
            "_________________________________________________________________\n",
            "Bidirectional_RNN (Bidirecti (None, 128)               84480     \n",
            "_________________________________________________________________\n",
            "Regularizer (Dropout)        (None, 128)               0         \n",
            "_________________________________________________________________\n",
            "Sigmoid_Classifier (Dense)   (None, 1)                 129       \n",
            "=================================================================\n",
            "Total params: 5,084,609\n",
            "Trainable params: 84,609\n",
            "Non-trainable params: 5,000,000\n",
            "_________________________________________________________________\n"
          ],
          "name": "stdout"
        },
        {
          "output_type": "execute_result",
          "data": {
            "image/png": "[encoded data removed]",
            "text/plain": [
              "<IPython.core.display.Image object>"
            ]
          },
          "metadata": {
            "tags": []
          },
          "execution_count": 100
        }
      ]
    },
    {
      "cell_type": "code",
      "metadata": {
        "colab_type": "code",
        "outputId": "4e3a53ad-f4b9-4a1b-fd79-de12f7654cee",
        "id": "KVyKQAeL_b3q",
        "colab": {
          "base_uri": "https://localhost:8080/",
          "height": 84
        }
      },
      "source": [
        "# Perform train-test split\n",
        "\n",
        "np.random.seed(123)\n",
        "\n",
        "X_train, X_test, Y_train, Y_test = train_test_split (X_clean_pad,Y.reshape(Y.shape[0],1),test_size=0.05)\n",
        "\n",
        "print(X_train.shape)\n",
        "print(X_test.shape)\n",
        "print(Y_train.shape)\n",
        "print(Y_test.shape)"
      ],
      "execution_count": 0,
      "outputs": [
        {
          "output_type": "stream",
          "text": [
            "(1520000, 20)\n",
            "(80000, 20)\n",
            "(1520000, 1)\n",
            "(80000, 1)\n"
          ],
          "name": "stdout"
        }
      ]
    },
    {
      "cell_type": "code",
      "metadata": {
        "colab_type": "code",
        "id": "MG--6fer_b3t",
        "outputId": "b089d5c5-9ad9-4b54-c780-8f39990a900e",
        "colab": {
          "base_uri": "https://localhost:8080/",
          "height": 538
        }
      },
      "source": [
        "# Train the model\n",
        "\n",
        "history_model_2 = model_2.fit(X_train,Y_train,batch_size=1024,epochs=15,validation_split=0.05)"
      ],
      "execution_count": 0,
      "outputs": [
        {
          "output_type": "stream",
          "text": [
            "Train on 1444000 samples, validate on 76000 samples\n",
            "Epoch 1/15\n",
            "1444000/1444000 [==============================] - 217s 150us/step - loss: 0.5230 - acc: 0.7368 - val_loss: 0.4847 - val_acc: 0.7625\n",
            "Epoch 2/15\n",
            "1444000/1444000 [==============================] - 216s 150us/step - loss: 0.4789 - acc: 0.7686 - val_loss: 0.4664 - val_acc: 0.7754\n",
            "Epoch 3/15\n",
            "1444000/1444000 [==============================] - 216s 150us/step - loss: 0.4648 - acc: 0.7777 - val_loss: 0.4600 - val_acc: 0.7799\n",
            "Epoch 4/15\n",
            "1444000/1444000 [==============================] - 215s 149us/step - loss: 0.4560 - acc: 0.7834 - val_loss: 0.4554 - val_acc: 0.7829\n",
            "Epoch 5/15\n",
            "1444000/1444000 [==============================] - 216s 149us/step - loss: 0.4498 - acc: 0.7871 - val_loss: 0.4531 - val_acc: 0.7846\n",
            "Epoch 6/15\n",
            "1444000/1444000 [==============================] - 216s 150us/step - loss: 0.4450 - acc: 0.7902 - val_loss: 0.4452 - val_acc: 0.7891\n",
            "Epoch 7/15\n",
            "1444000/1444000 [==============================] - 216s 150us/step - loss: 0.4410 - acc: 0.7923 - val_loss: 0.4440 - val_acc: 0.7893\n",
            "Epoch 8/15\n",
            "1444000/1444000 [==============================] - 216s 149us/step - loss: 0.4373 - acc: 0.7946 - val_loss: 0.4464 - val_acc: 0.7895\n",
            "Epoch 9/15\n",
            "1444000/1444000 [==============================] - 216s 150us/step - loss: 0.4344 - acc: 0.7967 - val_loss: 0.4428 - val_acc: 0.7906\n",
            "Epoch 10/15\n",
            "1444000/1444000 [==============================] - 216s 149us/step - loss: 0.4317 - acc: 0.7979 - val_loss: 0.4397 - val_acc: 0.7918\n",
            "Epoch 11/15\n",
            "1444000/1444000 [==============================] - 215s 149us/step - loss: 0.4292 - acc: 0.7999 - val_loss: 0.4378 - val_acc: 0.7926\n",
            "Epoch 12/15\n",
            "1444000/1444000 [==============================] - 217s 150us/step - loss: 0.4266 - acc: 0.8010 - val_loss: 0.4372 - val_acc: 0.7951\n",
            "Epoch 13/15\n",
            "1444000/1444000 [==============================] - 217s 150us/step - loss: 0.4247 - acc: 0.8021 - val_loss: 0.4390 - val_acc: 0.7932\n",
            "Epoch 14/15\n",
            "1444000/1444000 [==============================] - 216s 149us/step - loss: 0.4229 - acc: 0.8031 - val_loss: 0.4383 - val_acc: 0.7940\n",
            "Epoch 15/15\n",
            "1444000/1444000 [==============================] - 217s 150us/step - loss: 0.4209 - acc: 0.8044 - val_loss: 0.4361 - val_acc: 0.7954\n"
          ],
          "name": "stdout"
        }
      ]
    },
    {
      "cell_type": "code",
      "metadata": {
        "colab_type": "code",
        "outputId": "fb040601-4a11-4d30-bb2b-c82e4e559671",
        "id": "Fo_4aC3V_b3v",
        "colab": {
          "base_uri": "https://localhost:8080/",
          "height": 50
        }
      },
      "source": [
        "# Evaluate model on Test data\n",
        "\n",
        "model_2.evaluate(X_test,Y_test)"
      ],
      "execution_count": 0,
      "outputs": [
        {
          "output_type": "stream",
          "text": [
            "80000/80000 [==============================] - 13s 166us/step\n"
          ],
          "name": "stdout"
        },
        {
          "output_type": "execute_result",
          "data": {
            "text/plain": [
              "[0.4386945228159428, 0.7923375]"
            ]
          },
          "metadata": {
            "tags": []
          },
          "execution_count": 33
        }
      ]
    },
    {
      "cell_type": "markdown",
      "metadata": {
        "id": "Jq86Cm3cpaK8",
        "colab_type": "text"
      },
      "source": [
        "#**COMPARING BOTH MODELS**\n",
        "###Model 1: Unprocessed data\n",
        "###Model 2: Pre-processed data with GloVe Word Embeddings"
      ]
    },
    {
      "cell_type": "code",
      "metadata": {
        "id": "IRCmfosDuY2a",
        "colab_type": "code",
        "colab": {}
      },
      "source": [
        "# Calculate No. of epochs\n",
        "\n",
        "n_epochs=len(history_model_1.history['loss'])\n",
        "e = list(range(1,n_epochs+1))"
      ],
      "execution_count": 0,
      "outputs": []
    },
    {
      "cell_type": "code",
      "metadata": {
        "id": "5CYvWTCKpZ3S",
        "colab_type": "code",
        "outputId": "5caaff3a-0fed-4850-a501-fe507e7fc38b",
        "colab": {
          "base_uri": "https://localhost:8080/",
          "height": 279
        }
      },
      "source": [
        "# Training Loss\n",
        "\n",
        "plt.plot(e,history_model_1.history['loss'],'r',label='Model 1')\n",
        "plt.plot(e,history_model_2.history['loss'],'b',label='Model 2')\n",
        "plt.xlabel('Epochs')\n",
        "plt.ylabel('Training Loss')\n",
        "plt.legend()\n",
        "plt.show()"
      ],
      "execution_count": 0,
      "outputs": [
        {
          "output_type": "display_data",
          "data": {
            "image/png": "[encoded data removed]",
            "text/plain": [
              "<Figure size 432x288 with 1 Axes>"
            ]
          },
          "metadata": {
            "tags": []
          }
        }
      ]
    },
    {
      "cell_type": "code",
      "metadata": {
        "colab_type": "code",
        "id": "7XUoWUrWwcw7",
        "outputId": "4141f2e6-1fc9-49d1-ad67-e26782f6639f",
        "colab": {
          "base_uri": "https://localhost:8080/",
          "height": 279
        }
      },
      "source": [
        "# Validation Loss\n",
        "\n",
        "plt.plot(e,history_model_1.history['val_loss'],'r',label='Model 1')\n",
        "plt.plot(e,history_model_2.history['val_loss'],'b',label='Model 2')\n",
        "plt.xlabel('Epochs')\n",
        "plt.ylabel('Validation Loss')\n",
        "plt.legend()\n",
        "plt.show()"
      ],
      "execution_count": 0,
      "outputs": [
        {
          "output_type": "display_data",
          "data": {
            "image/png": "[encoded data removed]",
            "text/plain": [
              "<Figure size 432x288 with 1 Axes>"
            ]
          },
          "metadata": {
            "tags": []
          }
        }
      ]
    },
    {
      "cell_type": "code",
      "metadata": {
        "colab_type": "code",
        "id": "rPInKXlCwc-P",
        "outputId": "54c35397-8ee2-4cab-c3f0-5791afee529e",
        "colab": {
          "base_uri": "https://localhost:8080/",
          "height": 279
        }
      },
      "source": [
        "# Training Accuracy\n",
        "\n",
        "plt.plot(e,history_model_1.history['acc'],'r',label='Model 1')\n",
        "plt.plot(e,history_model_2.history['acc'],'b',label='Model 2')\n",
        "plt.xlabel('Epochs')\n",
        "plt.ylabel('Training Accuracy')\n",
        "plt.legend()\n",
        "plt.show()"
      ],
      "execution_count": 0,
      "outputs": [
        {
          "output_type": "display_data",
          "data": {
            "image/png": "[encoded data removed]",
            "text/plain": [
              "<Figure size 432x288 with 1 Axes>"
            ]
          },
          "metadata": {
            "tags": []
          }
        }
      ]
    },
    {
      "cell_type": "code",
      "metadata": {
        "colab_type": "code",
        "id": "3NHSKmRrwdJ9",
        "outputId": "cb20c522-2aae-42ae-d3b3-664b55e00500",
        "colab": {
          "base_uri": "https://localhost:8080/",
          "height": 280
        }
      },
      "source": [
        "# Validation Accuracy\n",
        "\n",
        "plt.plot(e,history_model_1.history['val_acc'],'r',label='Model 1')\n",
        "plt.plot(e,history_model_2.history['val_acc'],'b',label='Model 2')\n",
        "plt.xlabel('Epochs')\n",
        "plt.ylabel('Validation Accuracy')\n",
        "plt.legend()\n",
        "plt.show()"
      ],
      "execution_count": 0,
      "outputs": [
        {
          "output_type": "display_data",
          "data": {
            "image/png": "[encoded data removed]",
            "text/plain": [
              "<Figure size 432x288 with 1 Axes>"
            ]
          },
          "metadata": {
            "tags": []
          }
        }
      ]
    }
  ]
}